{
 "cells": [
  {
   "cell_type": "markdown",
   "id": "09e52c43",
   "metadata": {},
   "source": [
    "# Some Stats of IDC dataset #"
   ]
  },
  {
   "cell_type": "code",
   "execution_count": 36,
   "id": "45cf8e6d",
   "metadata": {},
   "outputs": [
    {
     "name": "stdout",
     "output_type": "stream",
     "text": [
      "shape of all training set:  (4437, 50, 50, 3)\n"
     ]
    }
   ],
   "source": [
    "import numpy as np \n",
    "\n",
    "train_IDC = np.load('./train_IDC.npy')\n",
    "train_nonIDC = np.load('./train_nonIDC.npy')\n",
    "X = np.concatenate((train_IDC,train_nonIDC),axis=0)\n",
    "print('shape of all training set: ', X.shape)"
   ]
  },
  {
   "cell_type": "markdown",
   "id": "ac612071",
   "metadata": {},
   "source": [
    "We have 5547 IDC microscopy image, while 3 means the RGB channel. "
   ]
  },
  {
   "cell_type": "code",
   "execution_count": 37,
   "id": "908e628b",
   "metadata": {},
   "outputs": [
    {
     "name": "stdout",
     "output_type": "stream",
     "text": [
      "mean:  [0.8072870370812287, 0.6357799672097822, 0.7357258879210914]\n",
      "std:  [0.14257688600883628, 0.21227747141835426, 0.15241009580979106]\n"
     ]
    }
   ],
   "source": [
    "#Channel 0: \n",
    "mean0 = np.mean(X[:,:,:,0])/255\n",
    "var0 = np.std(X[:,:,:,0])/255\n",
    "\n",
    "mean1 = np.mean(X[:,:,:,1])/255\n",
    "var1 = np.std(X[:,:,:,1])/255\n",
    "\n",
    "mean2 = np.mean(X[:,:,:,2])/255\n",
    "var2 = np.std(X[:,:,:,2])/255\n",
    "\n",
    "print('mean: ', [mean0,mean1,mean2])\n",
    "print('std: ',[var0,var1,var2])"
   ]
  },
  {
   "cell_type": "code",
   "execution_count": 41,
   "id": "629648da",
   "metadata": {},
   "outputs": [
    {
     "name": "stdout",
     "output_type": "stream",
     "text": [
      "uint8\n",
      "2\n"
     ]
    }
   ],
   "source": [
    "print(X.dtype)\n",
    "print(np.min(X))"
   ]
  }
 ],
 "metadata": {
  "kernelspec": {
   "display_name": "Python 3",
   "language": "python",
   "name": "python3"
  },
  "language_info": {
   "codemirror_mode": {
    "name": "ipython",
    "version": 3
   },
   "file_extension": ".py",
   "mimetype": "text/x-python",
   "name": "python",
   "nbconvert_exporter": "python",
   "pygments_lexer": "ipython3",
   "version": "3.8.10"
  }
 },
 "nbformat": 4,
 "nbformat_minor": 5
}
