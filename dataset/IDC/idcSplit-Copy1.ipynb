{
 "cells": [
  {
   "cell_type": "code",
   "execution_count": 1,
   "id": "aafaaf46",
   "metadata": {},
   "outputs": [],
   "source": [
    "import numpy as np\n",
    "import matplotlib.pylab as plt\n",
    "import cv2\n",
    "#from scipy.misc import imresize, imread\n",
    "import itertools\n",
    "import sklearn\n",
    "from sklearn import model_selection\n",
    "from sklearn.model_selection import train_test_split, KFold, cross_val_score, StratifiedKFold, learning_curve, GridSearchCV\n",
    "from sklearn.metrics import confusion_matrix, make_scorer, accuracy_score\n",
    "from sklearn.linear_model import LogisticRegression\n",
    "from sklearn.tree import DecisionTreeClassifier\n",
    "from sklearn.neighbors import KNeighborsClassifier\n",
    "from sklearn.discriminant_analysis import LinearDiscriminantAnalysis\n",
    "from sklearn.naive_bayes import GaussianNB\n",
    "from sklearn.svm import SVC, LinearSVC\n",
    "from sklearn.ensemble import RandomForestClassifier, GradientBoostingClassifier"
   ]
  },
  {
   "cell_type": "code",
   "execution_count": 2,
   "id": "8fe5d06d",
   "metadata": {},
   "outputs": [],
   "source": [
    "X = np.load('X.npy') # images\n",
    "Y = np.load('Y.npy') # labels associated to images (0 = no IDC, 1 = IDC)"
   ]
  },
  {
   "cell_type": "code",
   "execution_count": 3,
   "id": "98f83465",
   "metadata": {},
   "outputs": [
    {
     "name": "stdout",
     "output_type": "stream",
     "text": [
      "(5547, 50, 50, 3)\n",
      "(5547,)\n"
     ]
    }
   ],
   "source": [
    "print(X.shape)\n",
    "print(Y.shape)"
   ]
  },
  {
   "cell_type": "code",
   "execution_count": 4,
   "id": "19e8d737",
   "metadata": {},
   "outputs": [],
   "source": [
    "imgs0 = X[Y==0] # (0 = no IDC, 1 = IDC)\n",
    "imgs1 = X[Y==1]"
   ]
  },
  {
   "cell_type": "code",
   "execution_count": 5,
   "id": "02458a51",
   "metadata": {},
   "outputs": [],
   "source": [
    "label0=Y[Y==0]\n",
    "label1=Y[Y==1]"
   ]
  },
  {
   "cell_type": "code",
   "execution_count": 6,
   "id": "a6977fd1",
   "metadata": {},
   "outputs": [
    {
     "name": "stdout",
     "output_type": "stream",
     "text": [
      "(2759, 50, 50, 3)\n",
      "(2788, 50, 50, 3)\n"
     ]
    }
   ],
   "source": [
    "print(imgs0.shape)\n",
    "print(imgs1.shape)"
   ]
  },
  {
   "cell_type": "code",
   "execution_count": 7,
   "id": "060cab71",
   "metadata": {},
   "outputs": [
    {
     "name": "stdout",
     "output_type": "stream",
     "text": [
      "(2759,)\n",
      "(2788,)\n"
     ]
    }
   ],
   "source": [
    "print(label0.shape)\n",
    "print(label1.shape)"
   ]
  },
  {
   "cell_type": "code",
   "execution_count": 8,
   "id": "44f71144",
   "metadata": {},
   "outputs": [],
   "source": [
    "X_train, X_test, Y_train, Y_test = train_test_split(imgs0, label0, test_size=0.2)"
   ]
  },
  {
   "cell_type": "code",
   "execution_count": 9,
   "id": "7c82b39c",
   "metadata": {},
   "outputs": [
    {
     "name": "stdout",
     "output_type": "stream",
     "text": [
      "(552, 50, 50, 3)\n"
     ]
    }
   ],
   "source": [
    "print(X_test.shape)"
   ]
  },
  {
   "cell_type": "code",
   "execution_count": 10,
   "id": "31384720",
   "metadata": {},
   "outputs": [],
   "source": [
    "X_val = X_test[0:276] \n",
    "Y_val = Y_test[0:276]\n",
    "X_test = X_test[276:] \n",
    "Y_test = Y_test[276:]\n",
    "\n",
    "# Normalize the data\n",
    "X_train = X_train \n",
    "X_val = X_val \n",
    "X_test = X_test "
   ]
  },
  {
   "cell_type": "code",
   "execution_count": 11,
   "id": "249cca47",
   "metadata": {},
   "outputs": [],
   "source": [
    "np.save(\"train_nonIDC.npy\", X_train)\n",
    "np.save(\"val_nonIDC.npy\", X_val)\n",
    "np.save(\"test_nonIDC.npy\", X_test)"
   ]
  },
  {
   "cell_type": "code",
   "execution_count": 12,
   "id": "11ae7013",
   "metadata": {},
   "outputs": [],
   "source": [
    "X_train, X_test, Y_train, Y_test = train_test_split(imgs1, label1, test_size=0.2)"
   ]
  },
  {
   "cell_type": "code",
   "execution_count": 13,
   "id": "2fad2ee5",
   "metadata": {},
   "outputs": [
    {
     "name": "stdout",
     "output_type": "stream",
     "text": [
      "(558, 50, 50, 3)\n"
     ]
    }
   ],
   "source": [
    "print(X_test.shape)"
   ]
  },
  {
   "cell_type": "code",
   "execution_count": 14,
   "id": "93b6fe96",
   "metadata": {},
   "outputs": [],
   "source": [
    "X_val = X_test[0:279] \n",
    "Y_val = Y_test[0:279]\n",
    "X_test = X_test[276:] \n",
    "Y_test = Y_test[276:]\n",
    "\n",
    "# Normalize the data\n",
    "X_train = X_train \n",
    "X_val = X_val \n",
    "X_test = X_test "
   ]
  },
  {
   "cell_type": "code",
   "execution_count": 15,
   "id": "fb3b3642",
   "metadata": {},
   "outputs": [],
   "source": [
    "np.save(\"train_IDC.npy\", X_train)\n",
    "np.save(\"val_IDC.npy\", X_val)\n",
    "np.save(\"test_IDC.npy\", X_test)"
   ]
  },
  {
   "cell_type": "code",
   "execution_count": null,
   "id": "f763ddcd",
   "metadata": {},
   "outputs": [],
   "source": []
  }
 ],
 "metadata": {
  "kernelspec": {
   "display_name": "Python 3",
   "language": "python",
   "name": "python3"
  },
  "language_info": {
   "codemirror_mode": {
    "name": "ipython",
    "version": 3
   },
   "file_extension": ".py",
   "mimetype": "text/x-python",
   "name": "python",
   "nbconvert_exporter": "python",
   "pygments_lexer": "ipython3",
   "version": "3.8.10"
  }
 },
 "nbformat": 4,
 "nbformat_minor": 5
}
